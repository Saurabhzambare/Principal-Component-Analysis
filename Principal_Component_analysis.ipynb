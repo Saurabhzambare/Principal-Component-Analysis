{
  "nbformat": 4,
  "nbformat_minor": 0,
  "metadata": {
    "colab": {
      "name": "Principal Component analysis.ipynb",
      "provenance": [],
      "toc_visible": true
    },
    "kernelspec": {
      "name": "python3",
      "display_name": "Python 3"
    }
  },
  "cells": [
    {
      "cell_type": "markdown",
      "metadata": {
        "id": "yOxiFuly2xYZ"
      },
      "source": [
        "#Importing Libraries"
      ]
    },
    {
      "cell_type": "code",
      "metadata": {
        "id": "X1NyI8KHzKEY"
      },
      "source": [
        "import numpy as np # linear algebra\n",
        "import pandas as pd # data processing, CSV file I/O (e.g. pd.read_csv)\n",
        "import random as rd\n",
        "import matplotlib.pyplot as plt\n",
        "from sklearn.decomposition import PCA\n",
        "from sklearn import preprocessing;"
      ],
      "execution_count": 52,
      "outputs": []
    },
    {
      "cell_type": "markdown",
      "metadata": {
        "id": "8BT5XF1P24AL"
      },
      "source": [
        "#Creating Dataset"
      ]
    },
    {
      "cell_type": "code",
      "metadata": {
        "id": "-k5luXEJzeE2",
        "outputId": "3b267e3b-0968-42f6-f50b-b28daee12210",
        "colab": {
          "base_uri": "https://localhost:8080/",
          "height": 136
        }
      },
      "source": [
        "genes = ['gene' + str(i) for i in range(1,101)]\n",
        "wt = ['wt' + str(i) for i in range(1,6)] #wild_type_sample\n",
        "ko = ['ko' + str(i) for i in range(1,6)] #knock_out_sample\n",
        "data = pd.DataFrame(columns=[*wt,*ko], index=genes)\n",
        "\n",
        "for gene in data.index:\n",
        "  data.loc[gene,'wt1':'wt5'] = np.random.poisson(lam=rd.randrange(10,1000),size=5)\n",
        "  data.loc[gene,'ko1':'ko5'] = np.random.poisson(lam=rd.randrange(10,1000),size=5)\n",
        "print(data.head())\n",
        "print(data.shape)"
      ],
      "execution_count": 53,
      "outputs": [
        {
          "output_type": "stream",
          "text": [
            "       wt1  wt2  wt3  wt4  wt5  ko1  ko2  ko3  ko4  ko5\n",
            "gene1  243  251  223  224  209  967  943  939  837  898\n",
            "gene2  521  500  470  507  483  795  804  832  807  748\n",
            "gene3  321  292  285  303  298  933  953  968  927  929\n",
            "gene4  265  268  250  279  262  321  265  323  312  329\n",
            "gene5  681  686  701  674  690  212  256  242  233  219\n",
            "(100, 10)\n"
          ],
          "name": "stdout"
        }
      ]
    },
    {
      "cell_type": "markdown",
      "metadata": {
        "id": "hWrHa8y-3DXF"
      },
      "source": [
        "#Data Preprocessing"
      ]
    },
    {
      "cell_type": "code",
      "metadata": {
        "id": "g_Sd26zo2wAB"
      },
      "source": [
        "scaled_data = preprocessing.scale(data.T)#StandardScaler().fit_transform(data.T)"
      ],
      "execution_count": 54,
      "outputs": []
    },
    {
      "cell_type": "markdown",
      "metadata": {
        "id": "-VTREYKd401-"
      },
      "source": [
        "#PCA"
      ]
    },
    {
      "cell_type": "code",
      "metadata": {
        "id": "_Z0HV7W1435V"
      },
      "source": [
        "pca = PCA()\n",
        "pca.fit(scaled_data)\n",
        "pca_data = pca.transform(scaled_data)"
      ],
      "execution_count": 55,
      "outputs": []
    },
    {
      "cell_type": "markdown",
      "metadata": {
        "id": "L3fFuvS85XRH"
      },
      "source": [
        "#Visualization"
      ]
    },
    {
      "cell_type": "markdown",
      "metadata": {
        "id": "bpwyXdAE8OWT"
      },
      "source": [
        "##Scree Plot"
      ]
    },
    {
      "cell_type": "code",
      "metadata": {
        "id": "EyJCITiY5hhQ"
      },
      "source": [
        "per_var = np.round(pca.explained_variance_ratio_*100, decimals=1)#percentage of variance\n",
        "labels = ['PC' + str(x) for x in range(1,len(per_var)+1)]"
      ],
      "execution_count": 56,
      "outputs": []
    },
    {
      "cell_type": "code",
      "metadata": {
        "id": "Z9B7oaoX6o14",
        "outputId": "604f223e-dba0-46e1-a3f9-340f348a2500",
        "colab": {
          "base_uri": "https://localhost:8080/",
          "height": 295
        }
      },
      "source": [
        "plt.bar(x=range(1,len(per_var)+1),height=per_var,tick_label=labels)\n",
        "plt.ylabel('Percentage of Explained Variance')\n",
        "plt.xlabel('Principal Component')\n",
        "plt.title('Scree Plot')\n",
        "plt.show()"
      ],
      "execution_count": 57,
      "outputs": [
        {
          "output_type": "display_data",
          "data": {
            "image/png": "[encoded data removed]",
            "text/plain": [
              "<Figure size 432x288 with 1 Axes>"
            ]
          },
          "metadata": {
            "tags": [],
            "needs_background": "light"
          }
        }
      ]
    },
    {
      "cell_type": "markdown",
      "metadata": {
        "id": "jhK3bjh18JNS"
      },
      "source": [
        "##PCA Plot"
      ]
    },
    {
      "cell_type": "code",
      "metadata": {
        "id": "4UnKuW5R8Sbt"
      },
      "source": [
        "pca_df = pd.DataFrame(pca_data,columns=labels, index=[*wt,*ko])"
      ],
      "execution_count": 58,
      "outputs": []
    },
    {
      "cell_type": "code",
      "metadata": {
        "id": "yFxyL_ja84M0",
        "outputId": "70187b92-c443-40df-8eff-e375112c3f54",
        "colab": {
          "base_uri": "https://localhost:8080/",
          "height": 295
        }
      },
      "source": [
        "plt.scatter(pca_df.PC1,pca_df.PC2)\n",
        "plt.ylabel('PC2 - {0}%'.format(per_var[1]))\n",
        "plt.xlabel('PC1 - {0}%'.format(per_var[0]))\n",
        "plt.title('My PCA Graph')\n",
        "for sample in pca_df.index:\n",
        "  plt.annotate(sample,(pca_df.PC1.loc[sample],pca_df.PC2.loc[sample]))\n",
        "plt.show()"
      ],
      "execution_count": 59,
      "outputs": [
        {
          "output_type": "display_data",
          "data": {
            "image/png": "[encoded data removed]",
            "text/plain": [
              "<Figure size 432x288 with 1 Axes>"
            ]
          },
          "metadata": {
            "tags": [],
            "needs_background": "light"
          }
        }
      ]
    },
    {
      "cell_type": "markdown",
      "metadata": {
        "id": "QPJ_ZlSe-4O0"
      },
      "source": [
        "#Loading Scores"
      ]
    },
    {
      "cell_type": "code",
      "metadata": {
        "id": "_laNctBk_Cdv",
        "outputId": "27059d07-d699-4baa-87c0-af713cb04914",
        "colab": {
          "base_uri": "https://localhost:8080/",
          "height": 204
        }
      },
      "source": [
        "loading_scores = pd.Series(pca.components_[0],index=genes)\n",
        "sorted_loading_scores = loading_scores.abs().sort_values(ascending=False)\n",
        "top_10_genes = sorted_loading_scores[0:10].index.values\n",
        "print(loading_scores[top_10_genes])"
      ],
      "execution_count": 66,
      "outputs": [
        {
          "output_type": "stream",
          "text": [
            "gene63   -0.105316\n",
            "gene70    0.105285\n",
            "gene91   -0.105281\n",
            "gene96    0.105255\n",
            "gene39   -0.105252\n",
            "gene42    0.105246\n",
            "gene28   -0.105237\n",
            "gene48    0.105217\n",
            "gene3     0.105213\n",
            "gene43   -0.105191\n",
            "dtype: float64\n"
          ],
          "name": "stdout"
        }
      ]
    }
  ]
}